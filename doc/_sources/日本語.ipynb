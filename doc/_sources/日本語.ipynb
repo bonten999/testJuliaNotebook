{
 "cells": [
  {
   "cell_type": "markdown",
   "id": "58df5b7e",
   "metadata": {},
   "source": [
    "# 日本語"
   ]
  },
  {
   "cell_type": "code",
   "execution_count": 1,
   "id": "368b6683",
   "metadata": {},
   "outputs": [
    {
     "name": "stdout",
     "output_type": "stream",
     "text": [
      "1234\n"
     ]
    }
   ],
   "source": [
    "println(1234)"
   ]
  }
 ],
 "metadata": {
  "kernelspec": {
   "display_name": "Julia 1.7.3",
   "language": "julia",
   "name": "julia-1.7"
  },
  "language_info": {
   "file_extension": ".jl",
   "mimetype": "application/julia",
   "name": "julia",
   "version": "1.7.3"
  }
 },
 "nbformat": 4,
 "nbformat_minor": 5
}
